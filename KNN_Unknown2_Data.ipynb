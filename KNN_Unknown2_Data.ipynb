{
  "nbformat": 4,
  "nbformat_minor": 0,
  "metadata": {
    "colab": {
      "name": "KNN_Unknown2_Data.ipynb",
      "provenance": []
    },
    "kernelspec": {
      "name": "python3",
      "display_name": "Python 3"
    },
    "language_info": {
      "name": "python"
    }
  },
  "cells": [
    {
      "cell_type": "code",
      "metadata": {
        "id": "StBX_OdlYC3i"
      },
      "source": [
        "import numpy as np\n",
        "import pandas as pd\n",
        "import seaborn as sns\n",
        "import matplotlib.pyplot as plt\n",
        "%matplotlib inline"
      ],
      "execution_count": 2,
      "outputs": []
    },
    {
      "cell_type": "code",
      "metadata": {
        "colab": {
          "base_uri": "https://localhost:8080/",
          "height": 203
        },
        "id": "2TH8jEeeYmfN",
        "outputId": "6bd7961f-9472-478c-be07-c26b18c01086"
      },
      "source": [
        "df=pd.read_csv('KNN_Project_Data')\n",
        "df.head()"
      ],
      "execution_count": 4,
      "outputs": [
        {
          "output_type": "execute_result",
          "data": {
            "text/html": [
              "<div>\n",
              "<style scoped>\n",
              "    .dataframe tbody tr th:only-of-type {\n",
              "        vertical-align: middle;\n",
              "    }\n",
              "\n",
              "    .dataframe tbody tr th {\n",
              "        vertical-align: top;\n",
              "    }\n",
              "\n",
              "    .dataframe thead th {\n",
              "        text-align: right;\n",
              "    }\n",
              "</style>\n",
              "<table border=\"1\" class=\"dataframe\">\n",
              "  <thead>\n",
              "    <tr style=\"text-align: right;\">\n",
              "      <th></th>\n",
              "      <th>XVPM</th>\n",
              "      <th>GWYH</th>\n",
              "      <th>TRAT</th>\n",
              "      <th>TLLZ</th>\n",
              "      <th>IGGA</th>\n",
              "      <th>HYKR</th>\n",
              "      <th>EDFS</th>\n",
              "      <th>GUUB</th>\n",
              "      <th>MGJM</th>\n",
              "      <th>JHZC</th>\n",
              "      <th>TARGET CLASS</th>\n",
              "    </tr>\n",
              "  </thead>\n",
              "  <tbody>\n",
              "    <tr>\n",
              "      <th>0</th>\n",
              "      <td>1636.670614</td>\n",
              "      <td>817.988525</td>\n",
              "      <td>2565.995189</td>\n",
              "      <td>358.347163</td>\n",
              "      <td>550.417491</td>\n",
              "      <td>1618.870897</td>\n",
              "      <td>2147.641254</td>\n",
              "      <td>330.727893</td>\n",
              "      <td>1494.878631</td>\n",
              "      <td>845.136088</td>\n",
              "      <td>0</td>\n",
              "    </tr>\n",
              "    <tr>\n",
              "      <th>1</th>\n",
              "      <td>1013.402760</td>\n",
              "      <td>577.587332</td>\n",
              "      <td>2644.141273</td>\n",
              "      <td>280.428203</td>\n",
              "      <td>1161.873391</td>\n",
              "      <td>2084.107872</td>\n",
              "      <td>853.404981</td>\n",
              "      <td>447.157619</td>\n",
              "      <td>1193.032521</td>\n",
              "      <td>861.081809</td>\n",
              "      <td>1</td>\n",
              "    </tr>\n",
              "    <tr>\n",
              "      <th>2</th>\n",
              "      <td>1300.035501</td>\n",
              "      <td>820.518697</td>\n",
              "      <td>2025.854469</td>\n",
              "      <td>525.562292</td>\n",
              "      <td>922.206261</td>\n",
              "      <td>2552.355407</td>\n",
              "      <td>818.676686</td>\n",
              "      <td>845.491492</td>\n",
              "      <td>1968.367513</td>\n",
              "      <td>1647.186291</td>\n",
              "      <td>1</td>\n",
              "    </tr>\n",
              "    <tr>\n",
              "      <th>3</th>\n",
              "      <td>1059.347542</td>\n",
              "      <td>1066.866418</td>\n",
              "      <td>612.000041</td>\n",
              "      <td>480.827789</td>\n",
              "      <td>419.467495</td>\n",
              "      <td>685.666983</td>\n",
              "      <td>852.867810</td>\n",
              "      <td>341.664784</td>\n",
              "      <td>1154.391368</td>\n",
              "      <td>1450.935357</td>\n",
              "      <td>0</td>\n",
              "    </tr>\n",
              "    <tr>\n",
              "      <th>4</th>\n",
              "      <td>1018.340526</td>\n",
              "      <td>1313.679056</td>\n",
              "      <td>950.622661</td>\n",
              "      <td>724.742174</td>\n",
              "      <td>843.065903</td>\n",
              "      <td>1370.554164</td>\n",
              "      <td>905.469453</td>\n",
              "      <td>658.118202</td>\n",
              "      <td>539.459350</td>\n",
              "      <td>1899.850792</td>\n",
              "      <td>0</td>\n",
              "    </tr>\n",
              "  </tbody>\n",
              "</table>\n",
              "</div>"
            ],
            "text/plain": [
              "          XVPM         GWYH  ...         JHZC  TARGET CLASS\n",
              "0  1636.670614   817.988525  ...   845.136088             0\n",
              "1  1013.402760   577.587332  ...   861.081809             1\n",
              "2  1300.035501   820.518697  ...  1647.186291             1\n",
              "3  1059.347542  1066.866418  ...  1450.935357             0\n",
              "4  1018.340526  1313.679056  ...  1899.850792             0\n",
              "\n",
              "[5 rows x 11 columns]"
            ]
          },
          "metadata": {},
          "execution_count": 4
        }
      ]
    },
    {
      "cell_type": "markdown",
      "metadata": {
        "id": "3hoyiozfZSoR"
      },
      "source": [
        "Standardization"
      ]
    },
    {
      "cell_type": "code",
      "metadata": {
        "colab": {
          "base_uri": "https://localhost:8080/",
          "height": 203
        },
        "id": "8G-JS-yQZO8i",
        "outputId": "d1723cf3-f67c-4abf-9c64-0e681837abc4"
      },
      "source": [
        "from sklearn.preprocessing import StandardScaler\n",
        "scaler=StandardScaler()\n",
        "scaler.fit(df.drop('TARGET CLASS',axis=1))\n",
        "df_scaled=pd.DataFrame(scaler.transform(df.drop('TARGET CLASS',axis=1)),columns=df.columns[:-1])\n",
        "df_scaled.head()"
      ],
      "execution_count": 5,
      "outputs": [
        {
          "output_type": "execute_result",
          "data": {
            "text/html": [
              "<div>\n",
              "<style scoped>\n",
              "    .dataframe tbody tr th:only-of-type {\n",
              "        vertical-align: middle;\n",
              "    }\n",
              "\n",
              "    .dataframe tbody tr th {\n",
              "        vertical-align: top;\n",
              "    }\n",
              "\n",
              "    .dataframe thead th {\n",
              "        text-align: right;\n",
              "    }\n",
              "</style>\n",
              "<table border=\"1\" class=\"dataframe\">\n",
              "  <thead>\n",
              "    <tr style=\"text-align: right;\">\n",
              "      <th></th>\n",
              "      <th>XVPM</th>\n",
              "      <th>GWYH</th>\n",
              "      <th>TRAT</th>\n",
              "      <th>TLLZ</th>\n",
              "      <th>IGGA</th>\n",
              "      <th>HYKR</th>\n",
              "      <th>EDFS</th>\n",
              "      <th>GUUB</th>\n",
              "      <th>MGJM</th>\n",
              "      <th>JHZC</th>\n",
              "    </tr>\n",
              "  </thead>\n",
              "  <tbody>\n",
              "    <tr>\n",
              "      <th>0</th>\n",
              "      <td>1.568522</td>\n",
              "      <td>-0.443435</td>\n",
              "      <td>1.619808</td>\n",
              "      <td>-0.958255</td>\n",
              "      <td>-1.128481</td>\n",
              "      <td>0.138336</td>\n",
              "      <td>0.980493</td>\n",
              "      <td>-0.932794</td>\n",
              "      <td>1.008313</td>\n",
              "      <td>-1.069627</td>\n",
              "    </tr>\n",
              "    <tr>\n",
              "      <th>1</th>\n",
              "      <td>-0.112376</td>\n",
              "      <td>-1.056574</td>\n",
              "      <td>1.741918</td>\n",
              "      <td>-1.504220</td>\n",
              "      <td>0.640009</td>\n",
              "      <td>1.081552</td>\n",
              "      <td>-1.182663</td>\n",
              "      <td>-0.461864</td>\n",
              "      <td>0.258321</td>\n",
              "      <td>-1.041546</td>\n",
              "    </tr>\n",
              "    <tr>\n",
              "      <th>2</th>\n",
              "      <td>0.660647</td>\n",
              "      <td>-0.436981</td>\n",
              "      <td>0.775793</td>\n",
              "      <td>0.213394</td>\n",
              "      <td>-0.053171</td>\n",
              "      <td>2.030872</td>\n",
              "      <td>-1.240707</td>\n",
              "      <td>1.149298</td>\n",
              "      <td>2.184784</td>\n",
              "      <td>0.342811</td>\n",
              "    </tr>\n",
              "    <tr>\n",
              "      <th>3</th>\n",
              "      <td>0.011533</td>\n",
              "      <td>0.191324</td>\n",
              "      <td>-1.433473</td>\n",
              "      <td>-0.100053</td>\n",
              "      <td>-1.507223</td>\n",
              "      <td>-1.753632</td>\n",
              "      <td>-1.183561</td>\n",
              "      <td>-0.888557</td>\n",
              "      <td>0.162310</td>\n",
              "      <td>-0.002793</td>\n",
              "    </tr>\n",
              "    <tr>\n",
              "      <th>4</th>\n",
              "      <td>-0.099059</td>\n",
              "      <td>0.820815</td>\n",
              "      <td>-0.904346</td>\n",
              "      <td>1.609015</td>\n",
              "      <td>-0.282065</td>\n",
              "      <td>-0.365099</td>\n",
              "      <td>-1.095644</td>\n",
              "      <td>0.391419</td>\n",
              "      <td>-1.365603</td>\n",
              "      <td>0.787762</td>\n",
              "    </tr>\n",
              "  </tbody>\n",
              "</table>\n",
              "</div>"
            ],
            "text/plain": [
              "       XVPM      GWYH      TRAT  ...      GUUB      MGJM      JHZC\n",
              "0  1.568522 -0.443435  1.619808  ... -0.932794  1.008313 -1.069627\n",
              "1 -0.112376 -1.056574  1.741918  ... -0.461864  0.258321 -1.041546\n",
              "2  0.660647 -0.436981  0.775793  ...  1.149298  2.184784  0.342811\n",
              "3  0.011533  0.191324 -1.433473  ... -0.888557  0.162310 -0.002793\n",
              "4 -0.099059  0.820815 -0.904346  ...  0.391419 -1.365603  0.787762\n",
              "\n",
              "[5 rows x 10 columns]"
            ]
          },
          "metadata": {},
          "execution_count": 5
        }
      ]
    },
    {
      "cell_type": "code",
      "metadata": {
        "id": "Ll1SlJ6cZnGe"
      },
      "source": [
        "from sklearn.model_selection import train_test_split\n",
        "from sklearn.neighbors import KNeighborsClassifier\n",
        "from sklearn.metrics import confusion_matrix , classification_report"
      ],
      "execution_count": 6,
      "outputs": []
    },
    {
      "cell_type": "code",
      "metadata": {
        "id": "PrBgFkY6ei4B"
      },
      "source": [
        "X_train, X_test, y_train, y_test = train_test_split(df_scaled,df['TARGET CLASS'],test_size=0.30, random_state=101)"
      ],
      "execution_count": 10,
      "outputs": []
    },
    {
      "cell_type": "markdown",
      "metadata": {
        "id": "FcSKgUH8ploI"
      },
      "source": [
        "Improve K-Value"
      ]
    },
    {
      "cell_type": "code",
      "metadata": {
        "colab": {
          "base_uri": "https://localhost:8080/",
          "height": 421
        },
        "id": "GYSb3jkXppHe",
        "outputId": "4e343fa2-1c9f-4abd-cee6-2fb64c773ef6"
      },
      "source": [
        "Error=[]\n",
        "\n",
        "for i in range(1,40):\n",
        "  knn=KNeighborsClassifier(n_neighbors=i)\n",
        "  knn.fit(X_train,y_train)\n",
        "  pred_i=knn.predict(X_test)\n",
        "  Error.append(np.mean(pred_i!=y_test))\n",
        "\n",
        "plt.figure(figsize=(10,6))\n",
        "plt.plot(range(1,40),Error, marker='o',markerfacecolor='red', markersize=10)\n",
        "plt.title('Error Rate vs. K Value')\n",
        "plt.xlabel('K')\n",
        "plt.ylabel('Error Rate')"
      ],
      "execution_count": 13,
      "outputs": [
        {
          "output_type": "execute_result",
          "data": {
            "text/plain": [
              "Text(0, 0.5, 'Error Rate')"
            ]
          },
          "metadata": {},
          "execution_count": 13
        },
        {
          "output_type": "display_data",
          "data": {
            "image/png": "[encoded data removed]",
            "text/plain": [
              "<Figure size 720x432 with 1 Axes>"
            ]
          },
          "metadata": {
            "needs_background": "light"
          }
        }
      ]
    },
    {
      "cell_type": "code",
      "metadata": {
        "colab": {
          "base_uri": "https://localhost:8080/"
        },
        "id": "f4jI_XQNw-Yt",
        "outputId": "d5dd5060-d008-4e76-8a1d-300174660b17"
      },
      "source": [
        "knn = KNeighborsClassifier(n_neighbors=1)\n",
        "knn.fit(X_train,y_train)\n",
        "pred = knn.predict(X_test)\n",
        "print('WITH K=1')\n",
        "print('\\n')\n",
        "print(confusion_matrix(y_test,pred))\n",
        "print('\\n')\n",
        "print(classification_report(y_test,pred))"
      ],
      "execution_count": 14,
      "outputs": [
        {
          "output_type": "stream",
          "name": "stdout",
          "text": [
            "WITH K=1\n",
            "\n",
            "\n",
            "[[109  43]\n",
            " [ 41 107]]\n",
            "\n",
            "\n",
            "              precision    recall  f1-score   support\n",
            "\n",
            "           0       0.73      0.72      0.72       152\n",
            "           1       0.71      0.72      0.72       148\n",
            "\n",
            "    accuracy                           0.72       300\n",
            "   macro avg       0.72      0.72      0.72       300\n",
            "weighted avg       0.72      0.72      0.72       300\n",
            "\n"
          ]
        }
      ]
    },
    {
      "cell_type": "code",
      "metadata": {
        "colab": {
          "base_uri": "https://localhost:8080/"
        },
        "id": "G9TzC-6dxWaG",
        "outputId": "34f7d326-4f40-4063-eb9e-5d45575e0db6"
      },
      "source": [
        "knn = KNeighborsClassifier(n_neighbors=34)\n",
        "knn.fit(X_train,y_train)\n",
        "pred = knn.predict(X_test)\n",
        "print('WITH K=31')\n",
        "print('\\n')\n",
        "print(confusion_matrix(y_test,pred))\n",
        "print('\\n')\n",
        "print(classification_report(y_test,pred))"
      ],
      "execution_count": 15,
      "outputs": [
        {
          "output_type": "stream",
          "name": "stdout",
          "text": [
            "WITH K=31\n",
            "\n",
            "\n",
            "[[123  29]\n",
            " [ 23 125]]\n",
            "\n",
            "\n",
            "              precision    recall  f1-score   support\n",
            "\n",
            "           0       0.84      0.81      0.83       152\n",
            "           1       0.81      0.84      0.83       148\n",
            "\n",
            "    accuracy                           0.83       300\n",
            "   macro avg       0.83      0.83      0.83       300\n",
            "weighted avg       0.83      0.83      0.83       300\n",
            "\n"
          ]
        }
      ]
    }
  ]
}